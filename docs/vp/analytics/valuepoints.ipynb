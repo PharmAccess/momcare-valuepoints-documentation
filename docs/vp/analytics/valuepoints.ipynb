{
    "cells": [
        {
            "cell_type": "raw",
            "id": "1e00c4da-1ec9-4402-a28b-6ad4b241b3a8",
            "metadata": {
                "vscode": {
                    "languageId": "raw"
                }
            },
            "source": [
                "---\n",
                "title: \"Using SQL on FHIR to Generate Patient Timelines\"\n",
                "format: \n",
                "  html:\n",
                "    code-fold: true\n",
                "jupyter: python3\n",
                "---"
            ]
        },
        {
            "cell_type": "markdown",
            "metadata": {},
            "source": [
                "This guide demonstrates how to leverage SQL on FHIR to extract events data into a patient timeline from bulk FHIR (Fast Healthcare Interoperability Resources) exports. By combining the power of SQL with FHIR's standardized healthcare data, you can efficiently analyze and derive insights to support clinical and operational decision-making."
            ]
        },
        {
            "cell_type": "markdown",
            "metadata": {},
            "source": [
                "\n",
                "## Example: Using Anonymized Data\n",
                "---\n",
                "This section provides an example of how to work with anonymized data to generate value points.\n"
            ]
        },
        {
            "cell_type": "markdown",
            "metadata": {},
            "source": [
                "\n",
                "## Step 1: Creating View Definitions for FHIR Resources\n",
                "\n",
                "The first step involves creating view definitions for various FHIR resources. These view definitions are essential for transforming the hierarchical structure of FHIR resources into flattened relational tables, enabling easier querying and analysis using SQL. Below is an example of a view definition for the `Patient` resource:\n",
                "\n",
                "```json\n",
                "{\n",
                "  \"name\": \"mnch_patient\",\n",
                "  \"title\": \"MNCH Patient View\",\n",
                "  \"version\": \"0.1.0\",\n",
                "  \"url\": \"https://momcare.cot.pharmaccess.org/fhir/ViewDefinition/patient\",\n",
                "  \"meta\": {\n",
                "    \"profile\": [\n",
                "      \"http://hl7.org/fhir/uv/sql-on-fhir/StructureDefinition/ShareableViewDefinition\",\n",
                "      \"http://hl7.org/fhir/uv/sql-on-fhir/StructureDefinition/TabularViewDefinition\"\n",
                "    ]\n",
                "  },\n",
                "  \"status\": \"draft\",\n",
                "  \"resource\": \"Patient\",\n",
                "  \"fhirVersion\": [\n",
                "    \"4.0.1\"\n",
                "  ],\n",
                "  \"select\": [\n",
                "    {\n",
                "      \"column\": [\n",
                "        {\n",
                "          \"name\": \"birth_date\",\n",
                "          \"path\": \"birthDate\",\n",
                "          \"type\": \"datetime\",\n",
                "          \"collection\": false\n",
                "        },\n",
                "        {\n",
                "          \"name\": \"patient_id\",\n",
                "          \"path\": \"id\",\n",
                "          \"type\": \"ID\",\n",
                "          \"collection\": false\n",
                "        }\n",
                "      ]\n",
                "    },\n",
                "    {\n",
                "      \"forEachOrNull\": \"identifier\",\n",
                "      \"column\": [\n",
                "        {\n",
                "          \"name\": \"identifier_code\",\n",
                "          \"path\": \"type.coding.code\",\n",
                "          \"type\": \"code\",\n",
                "          \"collection\": false\n",
                "        },\n",
                "        {\n",
                "          \"name\": \"identifier_system_id\",\n",
                "          \"path\": \"value\",\n",
                "          \"type\": \"string\",\n",
                "          \"collection\": false\n",
                "        }\n",
                "      ]\n",
                "    }\n",
                "  ]\n",
                "}\n",
                "```\n"
            ]
        },
        {
            "cell_type": "markdown",
            "metadata": {},
            "source": [
                "## Step 2: Extracting Tabular Results with Pathling\n",
                "\n",
                "In this step, we use Pathling, an open-source solution built on Apache Spark, to extract tabular results from bulk FHIR exports using the view definitions created in Step 1.\n",
                "\n",
                "The output of Pathling is a Spark DataFrame, which can be easily loaded into a database for further analysis. For this demonstration, we will use DuckDB to store and query the extracted data."
            ]
        },
        {
            "cell_type": "code",
            "execution_count": null,
            "metadata": {},
            "outputs": [],
            "source": [
                "from pathling import DataSource, PathlingContext\n",
                "from pyspark.sql import DataFrame, SparkSession, Window\n",
                "\n",
                "# create a spark session\n",
                "spark = (\n",
                "            SparkSession.builder.config(\n",
                "                \"spark.jars.packages\",\n",
                "                \"au.csiro.pathling:library-runtime:8.0.0-SNAPSHOT,\"\n",
                "                \"io.delta:delta-spark_2.12:3.2.0,\"\n",
                "                \"org.apache.hadoop:hadoop-aws:3.3.4\",\n",
                "            )\n",
                "            .config(\"spark.jars.repositories\", \"https://oss.sonatype.org/content/repositories/snapshots/\")\n",
                "            .config(\n",
                "                \"spark.sql.extensions\",\n",
                "                \"io.delta.sql.DeltaSparkSessionExtension\",\n",
                "            )\n",
                "            .config(\n",
                "                \"spark.sql.catalog.spark_catalog\",\n",
                "                \"org.apache.spark.sql.delta.catalog.DeltaCatalog\",\n",
                "            )\n",
                "            .config(\"spark.driver.memory\", \"5g\")\n",
                "            .getOrCreate()\n",
                "        )\n",
                "pathling_context = PathlingContext.create(spark=spark)"
            ]
        },
        {
            "cell_type": "markdown",
            "metadata": {},
            "source": [
                "### 2.1 preview the flattened patient data\n",
                "\n",
                "in this example we will be assuming the bulk exports are in ndjson format and we will be using the `patient` resource type."
            ]
        },
        {
            "cell_type": "code",
            "execution_count": null,
            "metadata": {},
            "outputs": [
                {
                    "name": "stdout",
                    "output_type": "stream",
                    "text": [
                        "+----------+--------------------+---------------+--------------------+\n",
                        "|birth_date|          patient_id|identifier_code|identifier_system_id|\n",
                        "+----------+--------------------+---------------+--------------------+\n",
                        "|1989-09-30|4F12AC21954DF9A3B...|           ANON|4F12AC21954DF9A3B...|\n",
                        "|1989-09-21|4F12AC21954DF9A3B...|           ANON|4F12AC21954DF9A3B...|\n",
                        "|1989-09-20|4F12AC21954DF9A3B...|           ANON|4F12AC21954DF9A3B...|\n",
                        "|1991-12-31|2276EE71DE1500D8F...|           ANON|2276EE71DE1500D8F...|\n",
                        "|1995-12-02|07BF8F9537F9D0EC8...|           ANON|07BF8F9537F9D0EC8...|\n",
                        "+----------+--------------------+---------------+--------------------+\n",
                        "only showing top 5 rows\n",
                        "\n"
                    ]
                },
                {
                    "name": "stderr",
                    "output_type": "stream",
                    "text": [
                        "                                                                                \r"
                    ]
                }
            ],
            "source": [
                "import builtins\n",
                "fhir_data = pathling_context.read.ndjson('bulk_fhir')\n",
                "# use the view definition to flatten the data\n",
                "with builtins.open('views/Patient.ViewDefinition.json') as f:\n",
                "    patient_view = fhir_data.view(resource='Patient', json=f.read())\n",
                "    patient_view.show(5)\n",
                "    "
            ]
        },
        {
            "cell_type": "markdown",
            "metadata": {},
            "source": [
                "## Step 3: Defining Resources and Creating Patient Timeline\n",
                "\n",
                "In this step, we define all the required FHIR resources, flatten them using the view definitions, and transform the data into a patient timeline. This timeline provides a comprehensive view of patient events, enabling detailed analysis and insights.\n"
            ]
        },
        {
            "cell_type": "code",
            "execution_count": null,
            "metadata": {},
            "outputs": [
                {
                    "name": "stdout",
                    "output_type": "stream",
                    "text": [
                        "+--------------------+--------------------+--------------------+----------------+--------------+---------------+---------------+----------+\n",
                        "|        encounter_id|          patient_id|   visit_provider_id|visit_start_date|visit_end_date|      visitType|visit_type_code|account_id|\n",
                        "+--------------------+--------------------+--------------------+----------------+--------------+---------------+---------------+----------+\n",
                        "|37482718382B982A0...|CD43D56AF8297A01B...|B13EC87C08F977590...|      2021-02-12|    2021-02-12|Postpartum care|      133906008|      NULL|\n",
                        "|5BFCFF8433B92C5EE...|03251A523C043ECCD...|3944139CC9A4DBEF6...|      2021-02-12|    2021-02-12| Antenatal care|      424525001|      NULL|\n",
                        "|E84B5D9B9CD2311B6...|C4E75C7F1D3047EB1...|3944139CC9A4DBEF6...|      2021-02-12|    2021-02-12| Antenatal care|      424525001|      NULL|\n",
                        "|D7849ED48AF653D1B...|1224B1BBCDBC89AAB...|6DD8675CA9CA308D6...|      2021-02-15|    2021-02-15| Antenatal care|      424525001|      NULL|\n",
                        "|2F20473C1A6F76AFF...|D4388E67F5919BB73...|E6FF8AF215034B4B2...|      2021-02-15|    2021-02-15| Antenatal care|      424525001|      NULL|\n",
                        "+--------------------+--------------------+--------------------+----------------+--------------+---------------+---------------+----------+\n",
                        "only showing top 5 rows\n",
                        "\n"
                    ]
                }
            ],
            "source": [
                "from helper_functions import helpers\n",
                "from pyspark.sql import functions as F\n",
                "from pyspark.sql.types import DateType, LongType, StringType\n",
                "# define required resources\n",
                "required_resources = [\n",
                "            \"Condition\",\n",
                "            \"Encounter\",\n",
                "            \"MedicationDispense\",\n",
                "            \"Observation\",\n",
                "            \"Patient\",\n",
                "            \"Procedure\",\n",
                "        ]\n",
                "# read bulk data\n",
                "fhir_data = pathling_context.read.ndjson('bulk_fhir')\n",
                "\n",
                "reference_columns = [\n",
                "            \"visit_provider_id\",\n",
                "            \"patient_id\",\n",
                "            \"encounter_id\",\n",
                "            \"account_id\",\n",
                "        ]\n",
                "\n",
                "views = {}\n",
                "for resource in required_resources:\n",
                "    with builtins.open(f'views/{resource}.ViewDefinition.json') as f:\n",
                "        resource_view = fhir_data.view(resource=resource, json=f.read())\n",
                "        # this removes backward references i.e paitent/1 -> 1\n",
                "        # this can also be avoided by using correct view definition\n",
                "        cleaned_view = helpers.clean_resource_references(\n",
                "            resource_view, reference_columns\n",
                "        )\n",
                "        views[resource] = cleaned_view\n",
                "        \n",
                "# create a base view to join other tables\n",
                "encounters = views[\"Encounter\"]\n",
                "encounters = encounters.withColumn(\n",
                "    \"visit_type_code\", encounters.visit_type_code.cast(LongType())\n",
                ")\n",
                "encounters = encounters.withColumn(\n",
                "    \"visit_start_date\", encounters.visit_start_date.cast(DateType())\n",
                ")\n",
                "encounters = encounters.withColumn(\n",
                "    \"visit_end_date\", encounters.visit_end_date.cast(DateType())\n",
                ")\n",
                "base = encounters.where(F.col(\"visit_start_date\") > \"1900-01-01\")\n",
                "\n",
                "base.show(5)\n"
            ]
        },
        {
            "cell_type": "markdown",
            "metadata": {},
            "source": [
                "## Step 3.2: use helper functions to extract patient timeline"
            ]
        },
        {
            "cell_type": "code",
            "execution_count": 25,
            "metadata": {},
            "outputs": [
                {
                    "name": "stderr",
                    "output_type": "stream",
                    "text": [
                        "[Stage 23:===========================================>              (3 + 1) / 4]\r"
                    ]
                },
                {
                    "name": "stdout",
                    "output_type": "stream",
                    "text": [
                        "+--------------------+--------------------+--------------------+----------+---------+--------------------+---------+--------------------+-------------------+---------------+----------+---------------+------------+\n",
                        "|          patient_id|        encounter_id|   visit_provider_id|event_time|     code|              system|     type|    description_name|          visitType|visit_type_code|account_id|value_date_time|value_string|\n",
                        "+--------------------+--------------------+--------------------+----------+---------+--------------------+---------+--------------------+-------------------+---------------+----------+---------------+------------+\n",
                        "|9E9F306D1D3CA1A70...|000002D2633497E56...|23E5E82BB1E8D9AA8...|2020-08-03| 46973005|http://snomed.inf...|procedure|Blood pressure ta...|    Postpartum care|      133906008|      NULL|           NULL|        NULL|\n",
                        "|9E9F306D1D3CA1A70...|000002D2633497E56...|23E5E82BB1E8D9AA8...|2020-08-03| 11466000|http://snomed.inf...|procedure|Cesarean section ...|    Postpartum care|      133906008|      NULL|           NULL|        NULL|\n",
                        "|9E9F306D1D3CA1A70...|000002D2633497E56...|23E5E82BB1E8D9AA8...|2020-08-03|384634009|http://snomed.inf...|procedure|Postnatal materna...|    Postpartum care|      133906008|      NULL|           NULL|        NULL|\n",
                        "|9E9F306D1D3CA1A70...|000002D2633497E56...|23E5E82BB1E8D9AA8...|2020-08-03| 47821001|http://snomed.inf...|procedure|Postpartum hemorr...|    Postpartum care|      133906008|      NULL|           NULL|        NULL|\n",
                        "|9E9F306D1D3CA1A70...|000002D2633497E56...|23E5E82BB1E8D9AA8...|2020-08-03| 46973005|http://snomed.inf...|procedure|Blood pressure ta...|Active immunization|       33879002|      NULL|           NULL|        NULL|\n",
                        "+--------------------+--------------------+--------------------+----------+---------+--------------------+---------+--------------------+-------------------+---------------+----------+---------------+------------+\n",
                        "only showing top 5 rows\n",
                        "\n"
                    ]
                },
                {
                    "name": "stderr",
                    "output_type": "stream",
                    "text": [
                        "                                                                                \r"
                    ]
                }
            ],
            "source": [
                "# import importlib\n",
                "# importlib.reload(helpers)\n",
                "\n",
                "procedure = helpers.get_procedure(base, views)\n",
                "condition = helpers.get_diagnosis(base, views)\n",
                "medication = helpers.get_medication(base, views)\n",
                "observation = helpers.get_observation(base, views)\n",
                "\n",
                "timeline = procedure.union(condition).union(medication).union(observation)\n",
                "patient_timeline = timeline.withColumn(\n",
                "            \"value_string\", F.col(\"value_string\").cast(StringType())\n",
                "        )\n",
                "patient_timeline.show(5)"
            ]
        },
        {
            "cell_type": "markdown",
            "metadata": {},
            "source": [
                "## Step 4: Extracting Visit Information for Value Points Calculation\n",
                "\n",
                "Once the patient timeline is generated, the next step involves extracting detailed visit information. By aggregating and transforming this data, one can calculate value points, which serve as key indicators for clinical and operational decision-making.\n"
            ]
        }
    ],
    "metadata": {
        "kernelspec": {
            "display_name": "base",
            "language": "python",
            "name": "python3"
        },
        "language_info": {
            "codemirror_mode": {
                "name": "ipython",
                "version": 3
            },
            "file_extension": ".py",
            "mimetype": "text/x-python",
            "name": "python",
            "nbconvert_exporter": "python",
            "pygments_lexer": "ipython3",
            "version": "3.12.9"
        }
    },
    "nbformat": 4,
    "nbformat_minor": 2
}
